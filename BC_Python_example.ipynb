{
 "cells": [
  {
   "cell_type": "code",
   "execution_count": 29,
   "metadata": {},
   "outputs": [],
   "source": [
    "import hashlib, json, sys\n",
    "\n",
    "def hashMe(msg=\"\"):\n",
    "    # For convenience, this is a helper function that wraps our hashing algorithm\n",
    "    if type(msg)!=str:\n",
    "        msg = json.dumps(msg,sort_keys=True)  # If we don't sort keys, we can't guarantee repeatability!\n",
    "        \n",
    "    if sys.version_info.major == 2:\n",
    "        return unicode(hashlib.sha256(msg).hexdigest(),'utf-8')\n",
    "    else:\n",
    "        return hashlib.sha256(str(msg).encode('utf-8')).hexdigest()"
   ]
  },
  {
   "cell_type": "markdown",
   "metadata": {},
   "source": [
    "msg = json.dumps(msg,sort_keys=True) -> str이 아닌 msg는 알파벳순으로 정렬하여 str로 다시환산해줌\n",
    "\n",
    "sys.version_info.major -> 현재 파이썬버전이 2이면 2, 3이면 3을 출력\n",
    "\n",
    "hashlib.sha256(str(msg).encode('utf-8')).hexdigest() -> msg를 str로 바꾸고utf-8로 인코딩한후 hexdigest를 통해 sha256해싱을 수행"
   ]
  },
  {
   "cell_type": "code",
   "execution_count": 30,
   "metadata": {},
   "outputs": [
    {
     "name": "stdout",
     "output_type": "stream",
     "text": [
      "[{'Alice': 2, 'Bob': -2}, {'Alice': 2, 'Bob': -2}, {'Alice': -2, 'Bob': 2}, {'Alice': 3, 'Bob': -3}, {'Alice': -2, 'Bob': 2}, {'Alice': 2, 'Bob': -2}, {'Alice': 2, 'Bob': -2}, {'Alice': -3, 'Bob': 3}, {'Alice': 1, 'Bob': -1}, {'Alice': 1, 'Bob': -1}, {'Alice': -1, 'Bob': 1}, {'Alice': 1, 'Bob': -1}, {'Alice': 2, 'Bob': -2}, {'Alice': 3, 'Bob': -3}, {'Alice': 3, 'Bob': -3}, {'Alice': 3, 'Bob': -3}, {'Alice': 1, 'Bob': -1}, {'Alice': -1, 'Bob': 1}, {'Alice': 1, 'Bob': -1}, {'Alice': 3, 'Bob': -3}, {'Alice': -2, 'Bob': 2}, {'Alice': 1, 'Bob': -1}, {'Alice': -2, 'Bob': 2}, {'Alice': -3, 'Bob': 3}, {'Alice': 1, 'Bob': -1}, {'Alice': 3, 'Bob': -3}, {'Alice': -2, 'Bob': 2}, {'Alice': 3, 'Bob': -3}, {'Alice': -1, 'Bob': 1}, {'Alice': 3, 'Bob': -3}]\n"
     ]
    },
    {
     "data": {
      "text/plain": [
       "30"
      ]
     },
     "execution_count": 30,
     "metadata": {},
     "output_type": "execute_result"
    }
   ],
   "source": [
    "import random\n",
    "random.seed(0)\n",
    "\n",
    "def makeTransaction(maxValue=3):\n",
    "    # This will create valid transactions in the range of (1,maxValue)\n",
    "    sign      = int(random.getrandbits(1))*2 - 1   # This will randomly choose -1 or 1\n",
    "    amount    = random.randint(1,maxValue)\n",
    "    alicePays = sign * amount\n",
    "    bobPays   = -1 * alicePays\n",
    "    # By construction, this will always return transactions that respect the conservation of tokens.\n",
    "    # However, note that we have not done anything to check whether these overdraft an account\n",
    "    return {u'Alice':alicePays,u'Bob':bobPays}\n",
    "\n",
    "txnBuffer = [makeTransaction() for i in range(30)]\n",
    "print(txnBuffer)\n",
    "len(txnBuffer)"
   ]
  },
  {
   "cell_type": "markdown",
   "metadata": {},
   "source": [
    "sign은 -1과 1중 하나로 결정되고, amount는 1에서 3까지의 값을 임의로 발생시킴. 엘리스는 -3~3범위의 값을 지불하고, bob은 그 반대값을 지불.\n",
    "해당 예제에서는 각 Transaction행위마다 엘리스와 밥에대해 임의의 수만큼 거래를 발생시킨 것.\n",
    "결과값으로는 dictionary 형식의 데이터 아웃풋을 출력함"
   ]
  },
  {
   "cell_type": "markdown",
   "metadata": {},
   "source": [
    "txnBuffer는 30회동안 발생한 Tx를 기록한 List가 됨."
   ]
  },
  {
   "cell_type": "code",
   "execution_count": 31,
   "metadata": {},
   "outputs": [],
   "source": [
    "def updateState(txn, state):\n",
    "    # Inputs: txn, state: dictionaries keyed with account names, holding numeric values for transfer amount (txn) or account balance (state)\n",
    "    # Returns: Updated state, with additional users added to state if necessary\n",
    "    # NOTE: This does not not validate the transaction- just updates the state!\n",
    "    \n",
    "    # If the transaction is valid, then update the state\n",
    "    state = state.copy() # As dictionaries are mutable, let's avoid any confusion by creating a working copy of the data.\n",
    "    for key in txn:\n",
    "        if key in state.keys():\n",
    "            state[key] += txn[key]\n",
    "        else:\n",
    "            state[key] = txn[key]\n",
    "    return state"
   ]
  },
  {
   "cell_type": "markdown",
   "metadata": {},
   "source": [
    "dictionary 자료형은 key와 value로 구성되어있다. 즉 (Key, value)의 형태로 저장되고있음."
   ]
  },
  {
   "cell_type": "code",
   "execution_count": 32,
   "metadata": {},
   "outputs": [],
   "source": [
    "def isValidTxn(txn,state):\n",
    "    # Assume that the transaction is a dictionary keyed by account names\n",
    "\n",
    "    # Check that the sum of the deposits and withdrawals is 0\n",
    "    if sum(txn.values()) is not 0:\n",
    "        return False\n",
    "    \n",
    "    # Check that the transaction does not cause an overdraft\n",
    "    for key in txn.keys():\n",
    "        if key in state.keys(): \n",
    "            acctBalance = state[key]\n",
    "        else:\n",
    "            acctBalance = 0\n",
    "        if (acctBalance + txn[key]) < 0:\n",
    "            return False\n",
    "    \n",
    "    return True"
   ]
  },
  {
   "cell_type": "markdown",
   "metadata": {},
   "source": [
    "txn는 거래내역, state는 현재 잔고 내역임\n",
    "txn에는 누가 얼마를 누구에게 전달하는지가 포함되어있으므로, 총 합이 0이 아니라면 거짓임\n",
    "위의 isValidTxn은 단지 해당 Tx가 올바르게 발생된 거래인지를 나타내는 용도.\n",
    "overdraft는 잔고보다 많은 돈을 송금하는경우를 의미.. for문 이하의 의미는 다음과 같다.\n",
    "\n",
    "for key in txn.keys(): -> txn의 key값들에서, (즉 거래에 참여하는 사람들, 엘리스와 밥)\n",
    "\n",
    "if key in state.keys():  -> 만약 state의 key값에 해당하는 key값이 있다면,,,,, (즉 거래내역을 발생한 유저들이 네트워크 안에 있는 유저라면)\n",
    "\n",
    "acctBalance = state[key], -> acctBalance에 해당 key의 state를 대입. 즉 txn에 엘리스와 밥이 거래가 이루어졌다면, accbalance에는 엘리스와 밥의 현재 balance가 임시적으로 저장된다.\n",
    "\n",
    "\n",
    " else:\n",
    "            acctBalance = 0   -> 만약 txn의 거래유저가 네트워크에 없다면, acctbalance는 0이됨.\n",
    "            \n",
    " if (acctBalance + txn[key]) < 0:\n",
    "            return False              -> 만약 acctbalance값(=state[key])과 txn[key]의 합이 0보다 작다면, False를 반환\n",
    "            \n",
    "            즉 txn에서는 돈을 빼내게되는데, 현재 state의 잔고보다 많을 돈을 빼내려고하게되면 오류를 출력시키는 것임."
   ]
  },
  {
   "cell_type": "code",
   "execution_count": 33,
   "metadata": {},
   "outputs": [
    {
     "name": "stdout",
     "output_type": "stream",
     "text": [
      "True\n",
      "False\n",
      "False\n",
      "True\n",
      "False\n"
     ]
    }
   ],
   "source": [
    "state = {u'Alice':5,u'Bob':5}\n",
    "\n",
    "print(isValidTxn({u'Alice': -3, u'Bob': 3},state))  # Basic transaction- this works great!\n",
    "print(isValidTxn({u'Alice': -4, u'Bob': 3},state))  # But we can't create or destroy tokens!\n",
    "print(isValidTxn({u'Alice': -6, u'Bob': 6},state))  # We also can't overdraft our account.\n",
    "print(isValidTxn({u'Alice': -4, u'Bob': 2,'Lisa':2},state)) # Creating new users is valid\n",
    "print(isValidTxn({u'Alice': -4, u'Bob': 3,'Lisa':2},state)) # But the same rules still apply!"
   ]
  },
  {
   "cell_type": "markdown",
   "metadata": {},
   "source": [
    "즉 isValidTxn을 통해, 나가는 돈과 들어오는 돈의 합은 같아야하며, overdraft를 유발하는 Tx는 False를 출력하여 사전에 방지할 수 있음"
   ]
  },
  {
   "cell_type": "code",
   "execution_count": 34,
   "metadata": {},
   "outputs": [],
   "source": [
    "state = {u'Alice':50, u'Bob':50}  # Define the initial state\n",
    "genesisBlockTxns = [state]\n",
    "genesisBlockContents = {u'blockNumber':0,u'parentHash':None,u'txnCount':1,u'txns':genesisBlockTxns}\n",
    "genesisHash = hashMe( genesisBlockContents )\n",
    "genesisBlock = {u'hash':genesisHash,u'contents':genesisBlockContents}\n",
    "genesisBlockStr = json.dumps(genesisBlock, sort_keys=True)"
   ]
  },
  {
   "cell_type": "markdown",
   "metadata": {},
   "source": [
    "L1 - 초기 state로 엘리스, 밥만 존재하는 네트워크를 구성\n",
    "\n",
    "L2 - 제네시스 블럭에 초기 네트워크 상태를 저장\n",
    "\n",
    "L3 - 제네시스 블럭 contents에 blocknumber를 기입. parenthash는 이전해시가 없으므로 none. txn 카운트도 1. u'txns에는 genesisblocktxn을 저장\n",
    "\n",
    "여기서 u'blocknumber, u'parenthash, y'txncount는 블록 헤더에 해당하며, u'txns'이 실제 블록의 콘텐츠가 된다. u'xns'에만 Tx가 기입됨.\n",
    "\n",
    "L4 - 제네시스해시에서는 초기 Tx(초기 네트워크 자본 상태)를 해싱한 결과를 저장.\n",
    "\n",
    "L5 - genesisBlock -> 블록의 해싱값과 원본값을 딕셔너리 형태로 저장.\n",
    "\n",
    "L6 - 제네시스 블록의 내용을 사전순으로 정렬하고 , 데이터 형식을 str로 변경 sort_key=True 는 딕셔너리의 key를 정렬한다는 의미. \n",
    "기본값은 False임.\n",
    "\n"
   ]
  },
  {
   "cell_type": "code",
   "execution_count": 35,
   "metadata": {},
   "outputs": [],
   "source": [
    "chain = [genesisBlock]"
   ]
  },
  {
   "cell_type": "markdown",
   "metadata": {},
   "source": [
    "genesisBlock을 chain이라는 변수에 List형식으로 집어넣음.\n",
    "한편 genesisBlock은 dictionary형식으로, 최초 정보에 대한 해싱값을 'Key'로, 최초 정보 그자체를 'Value'로 갖고있다."
   ]
  },
  {
   "cell_type": "code",
   "execution_count": 36,
   "metadata": {},
   "outputs": [],
   "source": [
    "def makeBlock(txns,chain):\n",
    "    parentBlock = chain[-1]\n",
    "    parentHash  = parentBlock[u'hash']\n",
    "    blockNumber = parentBlock[u'contents'][u'blockNumber'] + 1\n",
    "    txnCount    = len(txns)\n",
    "    blockContents = {u'blockNumber':blockNumber,u'parentHash':parentHash,\n",
    "                     u'txnCount':len(txns),'txns':txns}\n",
    "    blockHash = hashMe( blockContents )\n",
    "    block = {u'hash':blockHash,u'contents':blockContents}\n",
    "    \n",
    "    return block"
   ]
  },
  {
   "cell_type": "markdown",
   "metadata": {},
   "source": [
    "txn count는 block에 들어가는 tx의 갯수 (txns), lens를 통해 값을 반환\n",
    "\n",
    "블록콘텐츠에는 값을 넣는데, txns라는 값이 블록을 생성하기 직전까지 모인 Transaction의 덩어리라고 봐도 될듯.\n",
    "\n",
    "\n"
   ]
  },
  {
   "cell_type": "code",
   "execution_count": 37,
   "metadata": {},
   "outputs": [],
   "source": [
    "blockSizeLimit = 5  # Arbitrary number of transactions per block- \n",
    "               #  this is chosen by the block miner, and can vary between blocks!\n",
    "\n",
    "while len(txnBuffer) > 0:\n",
    "    bufferStartSize = len(txnBuffer)\n",
    "    \n",
    "    ## Gather a set of valid transactions for inclusion\n",
    "    txnList = []\n",
    "    while (len(txnBuffer) > 0) & (len(txnList) < blockSizeLimit):\n",
    "        newTxn = txnBuffer.pop()\n",
    "        validTxn = isValidTxn(newTxn,state) # This will return False if txn is invalid\n",
    "        \n",
    "        if validTxn:           # If we got a valid state, not 'False'\n",
    "            txnList.append(newTxn)\n",
    "            state = updateState(newTxn,state)\n",
    "        else:\n",
    "            print(\"ignored transaction\")\n",
    "            sys.stdout.flush()\n",
    "            continue  # This was an invalid transaction; ignore it and move on\n",
    "        \n",
    "    ## Make a block\n",
    "    myBlock = makeBlock(txnList,chain)\n",
    "    chain.append(myBlock)    "
   ]
  },
  {
   "cell_type": "markdown",
   "metadata": {},
   "source": [
    "txnBuffer>0인 동안 , bufferStartSize-> txnBuffer의 크기로 정한다.\n",
    "\n",
    "txnList는 처음에 공백리스트로 시작하고 txnBuffer 가 양수이면서 동시에, txnList의 크기가 블록사이즈 최대치인  5보다 작은 동안에 아래의 명령을 수행\n",
    "\n",
    "A.pop()은 A list의 요소중 맨 마지막요소를 빼내어 출력하는 함수. 실행 후 A는 맨 마지막 List가 삭제되어 있음.\n",
    "\n",
    "즉 txnBuffer는 지금 노드의 버퍼에 Txn이 차있는데, 그중에서 가장 마지막에 존재한 txn을 꺼내어 newTxn으로 옮기는 과정임.\n",
    "\n",
    "newTxn은 isValidTxn함수를 통해 검증됨(True,False로 output이 나옴), 해당 결과를 validTxn에 넣음. \n",
    "\n",
    "만약 valid라면 txnList에 이어붙이고, 아니라면(validTxn->False라면) 메세지를 출력하고 sys.stdout.flush()를 실행. sys.stdout.flush()는 버퍼 비우는용도\n",
    "\n",
    "정리 : While문은 tx가 4개가 될때까지 txn버퍼의 tx를 가져와서 txnList에 넣는과정임. 해당 txnList 그리고 chain이 makeBlock의 변수로 들어감. chain은 previous hash를 만들기위해 필요함. 이러한 정보를 토대로 만들어진 블록을 myBlock이라는 변수에 넣고, 이를 chain에 다시 append함.\n",
    "\n"
   ]
  },
  {
   "cell_type": "code",
   "execution_count": 38,
   "metadata": {},
   "outputs": [
    {
     "name": "stdout",
     "output_type": "stream",
     "text": [
      "8\n",
      "2\n",
      "hi"
     ]
    }
   ],
   "source": [
    "import json, sys\n",
    "print(len(json.dumps({\"c\": 5}, sort_keys=False)))\n",
    "\n",
    "print(len([5,5]))\n",
    "\n",
    "sys.stdout.write(\"hi\")"
   ]
  },
  {
   "cell_type": "code",
   "execution_count": 39,
   "metadata": {},
   "outputs": [
    {
     "data": {
      "text/plain": [
       "{'hash': '7c88a4312054f89a2b73b04989cd9b9e1ae437e1048f89fbb4e18a08479de507',\n",
       " 'contents': {'blockNumber': 0,\n",
       "  'parentHash': None,\n",
       "  'txnCount': 1,\n",
       "  'txns': [{'Alice': 50, 'Bob': 50}]}}"
      ]
     },
     "execution_count": 39,
     "metadata": {},
     "output_type": "execute_result"
    }
   ],
   "source": [
    "chain[0]"
   ]
  },
  {
   "cell_type": "code",
   "execution_count": 40,
   "metadata": {},
   "outputs": [
    {
     "data": {
      "text/plain": [
       "{'hash': '7a91fc8206c5351293fd11200b33b7192e87fad6545504068a51aba868bc6f72',\n",
       " 'contents': {'blockNumber': 1,\n",
       "  'parentHash': '7c88a4312054f89a2b73b04989cd9b9e1ae437e1048f89fbb4e18a08479de507',\n",
       "  'txnCount': 5,\n",
       "  'txns': [{'Alice': 3, 'Bob': -3},\n",
       "   {'Alice': -1, 'Bob': 1},\n",
       "   {'Alice': 3, 'Bob': -3},\n",
       "   {'Alice': -2, 'Bob': 2},\n",
       "   {'Alice': 3, 'Bob': -3}]}}"
      ]
     },
     "execution_count": 40,
     "metadata": {},
     "output_type": "execute_result"
    }
   ],
   "source": [
    "chain[1]"
   ]
  },
  {
   "cell_type": "code",
   "execution_count": 49,
   "metadata": {
    "scrolled": true
   },
   "outputs": [
    {
     "data": {
      "text/plain": [
       "{'hash': '7dfbb47641f8aa4ccf9095647c6190488d63b1f47ad80a0adb86cabc40ab5058',\n",
       " 'contents': {'blockNumber': 2,\n",
       "  'parentHash': '7a91fc8206c5351293fd11200b33b7192e87fad6545504068a51aba868bc6f72',\n",
       "  'txnCount': 5,\n",
       "  'txns': [{'Alice': 1, 'Bob': -1},\n",
       "   {'Alice': -3, 'Bob': 3},\n",
       "   {'Alice': -2, 'Bob': 2},\n",
       "   {'Alice': 1, 'Bob': -1},\n",
       "   {'Alice': -2, 'Bob': 2}]}}"
      ]
     },
     "execution_count": 49,
     "metadata": {},
     "output_type": "execute_result"
    }
   ],
   "source": [
    "chain[2]"
   ]
  },
  {
   "cell_type": "code",
   "execution_count": 50,
   "metadata": {},
   "outputs": [
    {
     "data": {
      "text/plain": [
       "{'hash': 'af1de155dee76a6c1e87cbea8657850f0723dbf0d80b51d9430f71d94c4e5eca',\n",
       " 'contents': {'blockNumber': 3,\n",
       "  'parentHash': '7dfbb47641f8aa4ccf9095647c6190488d63b1f47ad80a0adb86cabc40ab5058',\n",
       "  'txnCount': 5,\n",
       "  'txns': [{'Alice': 3, 'Bob': -3},\n",
       "   {'Alice': 1, 'Bob': -1},\n",
       "   {'Alice': -1, 'Bob': 1},\n",
       "   {'Alice': 1, 'Bob': -1},\n",
       "   {'Alice': 3, 'Bob': -3}]}}"
      ]
     },
     "execution_count": 50,
     "metadata": {},
     "output_type": "execute_result"
    }
   ],
   "source": [
    "chain[3]"
   ]
  },
  {
   "cell_type": "code",
   "execution_count": 51,
   "metadata": {},
   "outputs": [
    {
     "data": {
      "text/plain": [
       "{'hash': 'fb8c5cedc82b3bc8178e49cab1f86df41cfabcf3c7f92f55a83ecb7bb49a80b5',\n",
       " 'contents': {'blockNumber': 4,\n",
       "  'parentHash': 'af1de155dee76a6c1e87cbea8657850f0723dbf0d80b51d9430f71d94c4e5eca',\n",
       "  'txnCount': 5,\n",
       "  'txns': [{'Alice': 3, 'Bob': -3},\n",
       "   {'Alice': 3, 'Bob': -3},\n",
       "   {'Alice': 2, 'Bob': -2},\n",
       "   {'Alice': 1, 'Bob': -1},\n",
       "   {'Alice': -1, 'Bob': 1}]}}"
      ]
     },
     "execution_count": 51,
     "metadata": {},
     "output_type": "execute_result"
    }
   ],
   "source": [
    "chain[4]"
   ]
  },
  {
   "cell_type": "code",
   "execution_count": 52,
   "metadata": {},
   "outputs": [
    {
     "data": {
      "text/plain": [
       "{'hash': 'c38c81cee85616f1cbc105ed4d6e470104590e348898fabf72bb5aab5625e1e8',\n",
       " 'contents': {'blockNumber': 5,\n",
       "  'parentHash': 'fb8c5cedc82b3bc8178e49cab1f86df41cfabcf3c7f92f55a83ecb7bb49a80b5',\n",
       "  'txnCount': 5,\n",
       "  'txns': [{'Alice': 1, 'Bob': -1},\n",
       "   {'Alice': 1, 'Bob': -1},\n",
       "   {'Alice': -3, 'Bob': 3},\n",
       "   {'Alice': 2, 'Bob': -2},\n",
       "   {'Alice': 2, 'Bob': -2}]}}"
      ]
     },
     "execution_count": 52,
     "metadata": {},
     "output_type": "execute_result"
    }
   ],
   "source": [
    "chain[5]"
   ]
  },
  {
   "cell_type": "code",
   "execution_count": 53,
   "metadata": {},
   "outputs": [
    {
     "data": {
      "text/plain": [
       "{'hash': '165c6c03b8c3ed8ebf0f4b091b3cf00e40f06b41db3db792d426736007b68872',\n",
       " 'contents': {'blockNumber': 6,\n",
       "  'parentHash': 'c38c81cee85616f1cbc105ed4d6e470104590e348898fabf72bb5aab5625e1e8',\n",
       "  'txnCount': 5,\n",
       "  'txns': [{'Alice': -2, 'Bob': 2},\n",
       "   {'Alice': 3, 'Bob': -3},\n",
       "   {'Alice': -2, 'Bob': 2},\n",
       "   {'Alice': 2, 'Bob': -2},\n",
       "   {'Alice': 2, 'Bob': -2}]}}"
      ]
     },
     "execution_count": 53,
     "metadata": {},
     "output_type": "execute_result"
    }
   ],
   "source": [
    "chain[6]"
   ]
  },
  {
   "cell_type": "code",
   "execution_count": 54,
   "metadata": {},
   "outputs": [
    {
     "data": {
      "text/plain": [
       "{'hash': 'e23552dcd00f96b842111af8376eb396cf1419d72583d7b6a60d45fc0026c82f',\n",
       " 'contents': {'blockNumber': 7,\n",
       "  'parentHash': '165c6c03b8c3ed8ebf0f4b091b3cf00e40f06b41db3db792d426736007b68872',\n",
       "  'txnCount': 5,\n",
       "  'txns': [{'Alice': 1, 'Bob': -1},\n",
       "   {'Alice': -3, 'Bob': 3},\n",
       "   {'Alice': 2, 'Bob': -2},\n",
       "   {'Alice': 3, 'Bob': -3},\n",
       "   {'Alice': 1, 'Bob': -1}]}}"
      ]
     },
     "execution_count": 54,
     "metadata": {},
     "output_type": "execute_result"
    }
   ],
   "source": [
    "chain[7]"
   ]
  },
  {
   "cell_type": "code",
   "execution_count": 55,
   "metadata": {},
   "outputs": [
    {
     "ename": "IndexError",
     "evalue": "list index out of range",
     "output_type": "error",
     "traceback": [
      "\u001b[1;31m---------------------------------------------------------------------------\u001b[0m",
      "\u001b[1;31mIndexError\u001b[0m                                Traceback (most recent call last)",
      "\u001b[1;32m<ipython-input-55-4ae4c57aa2a4>\u001b[0m in \u001b[0;36m<module>\u001b[1;34m()\u001b[0m\n\u001b[1;32m----> 1\u001b[1;33m \u001b[0mchain\u001b[0m\u001b[1;33m[\u001b[0m\u001b[1;36m8\u001b[0m\u001b[1;33m]\u001b[0m\u001b[1;33m\u001b[0m\u001b[0m\n\u001b[0m",
      "\u001b[1;31mIndexError\u001b[0m: list index out of range"
     ]
    }
   ],
   "source": [
    "chain[8]"
   ]
  },
  {
   "cell_type": "code",
   "execution_count": 41,
   "metadata": {},
   "outputs": [
    {
     "data": {
      "text/plain": [
       "{'Alice': 72, 'Bob': 28}"
      ]
     },
     "execution_count": 41,
     "metadata": {},
     "output_type": "execute_result"
    }
   ],
   "source": [
    "state"
   ]
  },
  {
   "cell_type": "code",
   "execution_count": 42,
   "metadata": {},
   "outputs": [],
   "source": [
    "def checkBlockHash(block):\n",
    "    # Raise an exception if the hash does not match the block contents\n",
    "    expectedHash = hashMe( block['contents'] )\n",
    "    if block['hash']!=expectedHash:\n",
    "        raise Exception('Hash does not match contents of block %s'%\n",
    "                        block['contents']['blockNumber'])\n",
    "    return"
   ]
  },
  {
   "cell_type": "markdown",
   "metadata": {},
   "source": [
    "chenckBlockHash(block) -> 해당 block의 hash 값이, 콘텐츠를 제대로 해싱한것이 맞는지 확인"
   ]
  },
  {
   "cell_type": "code",
   "execution_count": 43,
   "metadata": {},
   "outputs": [],
   "source": [
    " def checkBlockValidity(block,parent,state):    \n",
    "    # We want to check the following conditions:\n",
    "    # - Each of the transactions are valid updates to the system state\n",
    "    # - Block hash is valid for the block contents\n",
    "    # - Block number increments the parent block number by 1\n",
    "    # - Accurately references the parent block's hash\n",
    "    parentNumber = parent['contents']['blockNumber']\n",
    "    parentHash   = parent['hash']\n",
    "    blockNumber  = block['contents']['blockNumber']\n",
    "    \n",
    "    # Check transaction validity; throw an error if an invalid transaction was found.\n",
    "    for txn in block['contents']['txns']: # block의 컨텐츠항목의 txns를 참조하여, 트랜잭션내 모든 txn에 대해..\n",
    "        if isValidTxn(txn,state):\n",
    "            state = updateState(txn,state)   # 유효한 txn이었다면, state를 업데이트\n",
    "        else:\n",
    "            raise Exception('Invalid transaction in block %s: %s'%(blockNumber,txn))\n",
    "\n",
    "    checkBlockHash(block) # Check hash integrity; raises error if inaccurate\n",
    "\n",
    "    if blockNumber!=(parentNumber+1): #블록넘버 확인\n",
    "        raise Exception('Hash does not match contents of block %s'%blockNumber)\n",
    "\n",
    "    if block['contents']['parentHash'] != parentHash: #블록의 컨텐츠항목 내부의 parentHash가 , 실제 parentHash랑 다르다면,,,,\n",
    "        raise Exception('Parent hash not accurate at block %s'%blockNumber)\n",
    "    \n",
    "    return state"
   ]
  },
  {
   "cell_type": "markdown",
   "metadata": {},
   "source": [
    "블록검증부\n",
    "\n",
    "1) Hashing 확인 - 해당 블록의 컨텐츠에대한 Hash값이 맞나 확인 + 이전블록의 Hash값 존재하는지 확인\n",
    "\n",
    "2) blocknumber 확인 + TX가 유효한 TX인지 검증\n",
    "\n",
    "코드 내부적으로 확인해보면, 블록넘버 해쉬 등등 기타조건이 만족하지않은경우 예외처리가됨\n",
    "\n",
    "만약 txn이 유효하다면 state는 일단 업데이트 되는듯?\n",
    "\n",
    "raise 예외처리의경우 만약 에러가 발생하면, raise밑의 코드는 실행되지 않음.\n",
    "\n",
    "만약 txn은 유효하고 블록의 정보가 틀렸다면,, state는 업데이트되고 아래 if문에서 예외처리가 발생할것임..\n",
    "예외처리시 블록 생성을 막는 수단이 피룡할듯..\n"
   ]
  },
  {
   "cell_type": "code",
   "execution_count": 44,
   "metadata": {},
   "outputs": [],
   "source": [
    "def checkChain(chain):\n",
    "    # Work through the chain from the genesis block (which gets special treatment), \n",
    "    #  checking that all transactions are internally valid,\n",
    "    #    that the transactions do not cause an overdraft,\n",
    "    #    and that the blocks are linked by their hashes.\n",
    "    # This returns the state as a dictionary of accounts and balances,\n",
    "    #   or returns False if an error was detected\n",
    "\n",
    "    \n",
    "    ## Data input processing: Make sure that our chain is a list of dicts\n",
    "    if type(chain)==str:\n",
    "        try:\n",
    "            chain = json.loads(chain)\n",
    "            assert( type(chain)==list)\n",
    "        except:  # This is a catch-all, admittedly crude\n",
    "            return False\n",
    "    elif type(chain)!=list:\n",
    "        return False\n",
    "    \n",
    "    state = {} # state 초기화\n",
    "    ## Prime the pump by checking the genesis block\n",
    "    # We want to check the following conditions:\n",
    "    # - Each of the transactions are valid updates to the system state\n",
    "    # - Block hash is valid for the block contents\n",
    "\n",
    "    for txn in chain[0]['contents']['txns']: # 제네시스블록에 있는 트랜잭션들을 전부다 뜯어봐서\n",
    "        state = updateState(txn,state) #state를 업데이트하고\n",
    "    checkBlockHash(chain[0]) #불록해시도 검사하고~\n",
    "    parent = chain[0] # 제네시스블록에 대한 항을 따로 분리해놓고, 아래에는 나머지 블록에대한검증부분을 다루고잇음.\n",
    "    \n",
    "    ## Checking subsequent blocks: These additionally need to check\n",
    "    #    - the reference to the parent block's hash\n",
    "    #    - the validity of the block number\n",
    "    for block in chain[1:]:\n",
    "        state = checkBlockValidity(block,parent,state)   # 체인에 잇는 블록마다 유효성 검사하여 state를 업데이트하고, \n",
    "        parent = block\n",
    "        \n",
    "    return state   # state를 업데이트... 즉 checkchain의 결과값은 단지 state임\n"
   ]
  },
  {
   "cell_type": "markdown",
   "metadata": {},
   "source": [
    "json.dumps() / json.loads는 각각 데이터를 인코딩/ 디코딩하는 과정임.\n",
    "\n",
    "인코딩된 chain이 str타입이라면, chain을 다시 디코딩하여, list형식으로 바꿈. 원래 chain은 사전형식데이터의 list였는데, 이것이 str로 변환되어 저장되어있던것임. 이를 해독하기위해선 다시 json.loads를 통해 디코딩하여 일일이 맞춰봐야함."
   ]
  },
  {
   "cell_type": "code",
   "execution_count": 45,
   "metadata": {},
   "outputs": [
    {
     "data": {
      "text/plain": [
       "{'Alice': 72, 'Bob': 28}"
      ]
     },
     "execution_count": 45,
     "metadata": {},
     "output_type": "execute_result"
    }
   ],
   "source": [
    "checkChain(chain)"
   ]
  },
  {
   "cell_type": "code",
   "execution_count": 46,
   "metadata": {},
   "outputs": [
    {
     "data": {
      "text/plain": [
       "{'Alice': 72, 'Bob': 28}"
      ]
     },
     "execution_count": 46,
     "metadata": {},
     "output_type": "execute_result"
    }
   ],
   "source": [
    "chainAsText = json.dumps(chain,sort_keys=True)\n",
    "checkChain(chainAsText)"
   ]
  },
  {
   "cell_type": "markdown",
   "metadata": {},
   "source": [
    "이미 chain은만들어진 상태에서 검증만 하는 작업. output 결과로 state만 출력한다\n"
   ]
  },
  {
   "cell_type": "code",
   "execution_count": 47,
   "metadata": {},
   "outputs": [],
   "source": [
    "import copy\n",
    "nodeBchain = copy.copy(chain)\n",
    "nodeBtxns  = [makeTransaction() for i in range(5)]\n",
    "newBlock   = makeBlock(nodeBtxns,nodeBchain)"
   ]
  },
  {
   "cell_type": "markdown",
   "metadata": {},
   "source": [
    "새로운 블록이 노드에 전달된경우, 검증을 시작하고 검증결과 올바르다면 state를 업데이트함.\n",
    "\n",
    "nodeBchain은 기존의 chain을 카피한것.\n",
    "\n",
    "nodeBtxn은 이때 새로 발생한 txn를 지칭\n",
    "\n",
    "newBlock은 새로발생한 txn를 체인에 연결하는것.\n",
    "\n"
   ]
  },
  {
   "cell_type": "code",
   "execution_count": 56,
   "metadata": {},
   "outputs": [
    {
     "data": {
      "text/plain": [
       "[{'hash': '7c88a4312054f89a2b73b04989cd9b9e1ae437e1048f89fbb4e18a08479de507',\n",
       "  'contents': {'blockNumber': 0,\n",
       "   'parentHash': None,\n",
       "   'txnCount': 1,\n",
       "   'txns': [{'Alice': 50, 'Bob': 50}]}},\n",
       " {'hash': '7a91fc8206c5351293fd11200b33b7192e87fad6545504068a51aba868bc6f72',\n",
       "  'contents': {'blockNumber': 1,\n",
       "   'parentHash': '7c88a4312054f89a2b73b04989cd9b9e1ae437e1048f89fbb4e18a08479de507',\n",
       "   'txnCount': 5,\n",
       "   'txns': [{'Alice': 3, 'Bob': -3},\n",
       "    {'Alice': -1, 'Bob': 1},\n",
       "    {'Alice': 3, 'Bob': -3},\n",
       "    {'Alice': -2, 'Bob': 2},\n",
       "    {'Alice': 3, 'Bob': -3}]}},\n",
       " {'hash': '7dfbb47641f8aa4ccf9095647c6190488d63b1f47ad80a0adb86cabc40ab5058',\n",
       "  'contents': {'blockNumber': 2,\n",
       "   'parentHash': '7a91fc8206c5351293fd11200b33b7192e87fad6545504068a51aba868bc6f72',\n",
       "   'txnCount': 5,\n",
       "   'txns': [{'Alice': 1, 'Bob': -1},\n",
       "    {'Alice': -3, 'Bob': 3},\n",
       "    {'Alice': -2, 'Bob': 2},\n",
       "    {'Alice': 1, 'Bob': -1},\n",
       "    {'Alice': -2, 'Bob': 2}]}},\n",
       " {'hash': 'af1de155dee76a6c1e87cbea8657850f0723dbf0d80b51d9430f71d94c4e5eca',\n",
       "  'contents': {'blockNumber': 3,\n",
       "   'parentHash': '7dfbb47641f8aa4ccf9095647c6190488d63b1f47ad80a0adb86cabc40ab5058',\n",
       "   'txnCount': 5,\n",
       "   'txns': [{'Alice': 3, 'Bob': -3},\n",
       "    {'Alice': 1, 'Bob': -1},\n",
       "    {'Alice': -1, 'Bob': 1},\n",
       "    {'Alice': 1, 'Bob': -1},\n",
       "    {'Alice': 3, 'Bob': -3}]}},\n",
       " {'hash': 'fb8c5cedc82b3bc8178e49cab1f86df41cfabcf3c7f92f55a83ecb7bb49a80b5',\n",
       "  'contents': {'blockNumber': 4,\n",
       "   'parentHash': 'af1de155dee76a6c1e87cbea8657850f0723dbf0d80b51d9430f71d94c4e5eca',\n",
       "   'txnCount': 5,\n",
       "   'txns': [{'Alice': 3, 'Bob': -3},\n",
       "    {'Alice': 3, 'Bob': -3},\n",
       "    {'Alice': 2, 'Bob': -2},\n",
       "    {'Alice': 1, 'Bob': -1},\n",
       "    {'Alice': -1, 'Bob': 1}]}},\n",
       " {'hash': 'c38c81cee85616f1cbc105ed4d6e470104590e348898fabf72bb5aab5625e1e8',\n",
       "  'contents': {'blockNumber': 5,\n",
       "   'parentHash': 'fb8c5cedc82b3bc8178e49cab1f86df41cfabcf3c7f92f55a83ecb7bb49a80b5',\n",
       "   'txnCount': 5,\n",
       "   'txns': [{'Alice': 1, 'Bob': -1},\n",
       "    {'Alice': 1, 'Bob': -1},\n",
       "    {'Alice': -3, 'Bob': 3},\n",
       "    {'Alice': 2, 'Bob': -2},\n",
       "    {'Alice': 2, 'Bob': -2}]}},\n",
       " {'hash': '165c6c03b8c3ed8ebf0f4b091b3cf00e40f06b41db3db792d426736007b68872',\n",
       "  'contents': {'blockNumber': 6,\n",
       "   'parentHash': 'c38c81cee85616f1cbc105ed4d6e470104590e348898fabf72bb5aab5625e1e8',\n",
       "   'txnCount': 5,\n",
       "   'txns': [{'Alice': -2, 'Bob': 2},\n",
       "    {'Alice': 3, 'Bob': -3},\n",
       "    {'Alice': -2, 'Bob': 2},\n",
       "    {'Alice': 2, 'Bob': -2},\n",
       "    {'Alice': 2, 'Bob': -2}]}}]"
      ]
     },
     "execution_count": 56,
     "metadata": {},
     "output_type": "execute_result"
    }
   ],
   "source": [
    "nodeBchain"
   ]
  },
  {
   "cell_type": "code",
   "execution_count": 59,
   "metadata": {},
   "outputs": [
    {
     "data": {
      "text/plain": [
       "[{'Alice': 1, 'Bob': -1},\n",
       " {'Alice': -3, 'Bob': 3},\n",
       " {'Alice': 2, 'Bob': -2},\n",
       " {'Alice': 3, 'Bob': -3},\n",
       " {'Alice': 1, 'Bob': -1}]"
      ]
     },
     "execution_count": 59,
     "metadata": {},
     "output_type": "execute_result"
    }
   ],
   "source": [
    "nodeBtxns"
   ]
  },
  {
   "cell_type": "code",
   "execution_count": 60,
   "metadata": {},
   "outputs": [
    {
     "data": {
      "text/plain": [
       "{'hash': 'e23552dcd00f96b842111af8376eb396cf1419d72583d7b6a60d45fc0026c82f',\n",
       " 'contents': {'blockNumber': 7,\n",
       "  'parentHash': '165c6c03b8c3ed8ebf0f4b091b3cf00e40f06b41db3db792d426736007b68872',\n",
       "  'txnCount': 5,\n",
       "  'txns': [{'Alice': 1, 'Bob': -1},\n",
       "   {'Alice': -3, 'Bob': 3},\n",
       "   {'Alice': 2, 'Bob': -2},\n",
       "   {'Alice': 3, 'Bob': -3},\n",
       "   {'Alice': 1, 'Bob': -1}]}}"
      ]
     },
     "execution_count": 60,
     "metadata": {},
     "output_type": "execute_result"
    }
   ],
   "source": [
    "newBlock"
   ]
  },
  {
   "cell_type": "code",
   "execution_count": 48,
   "metadata": {},
   "outputs": [
    {
     "name": "stdout",
     "output_type": "stream",
     "text": [
      "Blockchain on Node A is currently 7 blocks long\n",
      "New Block Received; checking validity...\n",
      "Blockchain on Node A is now 8 blocks long\n"
     ]
    }
   ],
   "source": [
    "print(\"Blockchain on Node A is currently %s blocks long\"%len(chain))\n",
    "\n",
    "try:\n",
    "    print(\"New Block Received; checking validity...\")\n",
    "    state = checkBlockValidity(newBlock,chain[-1],state) # Update the state- this will throw an error if the block is invalid!\n",
    "    chain.append(newBlock)\n",
    "except:\n",
    "    print(\"Invalid block; ignoring and waiting for the next block...\")\n",
    "\n",
    "print(\"Blockchain on Node A is now %s blocks long\"%len(chain))"
   ]
  },
  {
   "cell_type": "markdown",
   "metadata": {},
   "source": [
    "위에서 만든 nodeBtxns, newBlock는 아직 검증이된것이 아니므로 위의 예제를통해 validity 체크를 진행함"
   ]
  },
  {
   "cell_type": "code",
   "execution_count": null,
   "metadata": {},
   "outputs": [],
   "source": []
  }
 ],
 "metadata": {
  "kernelspec": {
   "display_name": "Python 3",
   "language": "python",
   "name": "python3"
  },
  "language_info": {
   "codemirror_mode": {
    "name": "ipython",
    "version": 3
   },
   "file_extension": ".py",
   "mimetype": "text/x-python",
   "name": "python",
   "nbconvert_exporter": "python",
   "pygments_lexer": "ipython3",
   "version": "3.6.5"
  }
 },
 "nbformat": 4,
 "nbformat_minor": 2
}
